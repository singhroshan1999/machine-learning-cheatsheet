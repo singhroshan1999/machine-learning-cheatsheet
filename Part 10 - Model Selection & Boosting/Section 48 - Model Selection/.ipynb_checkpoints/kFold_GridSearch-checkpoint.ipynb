{
 "cells": [
  {
   "cell_type": "markdown",
   "metadata": {},
   "source": [
    "<div style=\"font-size:38px;color:green\"><u>k-fold cross validation and Grid Search</u></div><br/><br/>"
   ]
  },
  {
   "cell_type": "code",
   "execution_count": 15,
   "metadata": {},
   "outputs": [
    {
     "name": "stdout",
     "output_type": "stream",
     "text": [
      "[0 0 0 0 0 0 0 1 0 0 0 0 0 0 0 0 0 0 1 0 0 1 0 1 0 1 0 0 0 0 0 1 1 0 0 0 0\n",
      " 0 0 1 0 0 0 0 1 0 0 1 0 1 1 0 0 0 1 1 0 0 1 0 0 1 0 1 0 1 0 0 0 0 1 0 0 1\n",
      " 0 0 0 0 1 1 1 0 0 0 1 1 0 1 1 0 0 1 0 0 0 1 0 1 1 1]\n",
      "[0 0 0 0 0 0 0 1 0 1 0 0 0 0 0 1 0 0 1 0 0 1 0 1 0 1 0 0 0 0 0 0 1 0 0 0 0\n",
      " 0 0 1 0 0 0 0 1 0 0 1 0 1 1 0 0 1 1 1 0 0 1 0 0 1 0 1 0 1 0 0 0 0 1 0 0 1\n",
      " 0 0 0 0 1 1 1 1 0 0 1 0 0 1 1 0 0 1 0 0 0 0 0 1 1 1]\n",
      "[[64  4]\n",
      " [ 3 29]]\n"
     ]
    },
    {
     "data": {
      "image/png": "[encoded data removed]",
      "text/plain": [
       "<Figure size 432x288 with 1 Axes>"
      ]
     },
     "metadata": {
      "needs_background": "light"
     },
     "output_type": "display_data"
    }
   ],
   "source": [
    "import numpy as np\n",
    "import matplotlib.pyplot as plt\n",
    "import pandas as pd\n",
    "from sklearn.preprocessing import LabelEncoder, OneHotEncoder\n",
    "from sklearn.model_selection import train_test_split\n",
    "from sklearn.preprocessing import StandardScaler\n",
    "\n",
    "dataset = pd.read_csv('Social_Network_Ads.csv')\n",
    "# dataset\n",
    "x = dataset.iloc[:,2:4].values\n",
    "y = dataset.iloc[:,4].values\n",
    "\n",
    "x_train,x_test,y_train,y_test = train_test_split(x,y,test_size=0.25,random_state=0)\n",
    "ss = StandardScaler()\n",
    "x_train = ss.fit_transform(x_train)\n",
    "x_test = ss.transform(x_test)\n",
    "\n",
    "# creating lernel-SVM classifier\n",
    "from sklearn.svm import SVC\n",
    "classifier = SVC(kernel='rbf',random_state=0)\n",
    "classifier.fit(x_train,y_train)\n",
    "\n",
    "# Predicting values\n",
    "y_pred = classifier.predict(x_test)\n",
    "print(y_test)\n",
    "print(y_pred)\n",
    "# using confusion matrix to get accuracy of predicted values\n",
    "from sklearn.metrics import confusion_matrix\n",
    "cm = confusion_matrix(y_test,y_pred)\n",
    "print(cm)\n",
    "#visualizing and comparing Actual Vs Predicted\n",
    "\n",
    "plt.plot(x_test,y_test,\"ob\",label=\"Actual\",alpha=0.1)\n",
    "plt.plot(x_test,y_pred,\"+b\",label=\"Kernel SVM Classifier\")\n",
    "plt.title(\"Kernel SVM Classifier (Actual Vs Predicted)\")\n",
    "plt.legend()\n",
    "plt.show()"
   ]
  },
  {
   "cell_type": "code",
   "execution_count": 16,
   "metadata": {},
   "outputs": [
    {
     "name": "stdout",
     "output_type": "stream",
     "text": [
      "0.9005302187615868\n",
      "0.06388957356626285\n"
     ]
    }
   ],
   "source": [
    "# applying k-fold cross validation\n",
    "\n",
    "from sklearn.model_selection import cross_val_score\n",
    "acc = cross_val_score(estimator = classifier,X = x_train,y = y_train,cv = 10,n_jobs = -1)\n",
    "print(acc.mean())\n",
    "print(acc.std())"
   ]
  },
  {
   "cell_type": "code",
   "execution_count": 17,
   "metadata": {},
   "outputs": [
    {
     "name": "stdout",
     "output_type": "stream",
     "text": [
      "0.9033333333333333\n",
      "{'C': 1, 'gamma': 0.7, 'kernel': 'rbf'}\n"
     ]
    }
   ],
   "source": [
    "# applying grid search to find best model\n",
    "\n",
    "from sklearn.model_selection import GridSearchCV\n",
    "parameters = [{'C':[1,10,100,1000],'kernel':['linear'] },\n",
    "             {'C':[1,10,100,1000],'kernel':['rbf'],'gamma':[0.8,0.7,0.6,0.5,0.1,0.01,0.001,0.0001]}]\n",
    "grid_search = GridSearchCV(estimator = classifier,\n",
    "                          scoring = 'accuracy',\n",
    "                          cv = 10,\n",
    "                          n_jobs = -1,\n",
    "                          param_grid = parameters)\n",
    "grid_search = grid_search.fit(x_train,y_train)\n",
    "beat_accuracy = grid_search.best_score_\n",
    "beat_params = grid_search.best_params_\n",
    "print(beat_accuracy)\n",
    "print(beat_params)"
   ]
  }
 ],
 "metadata": {
  "kernelspec": {
   "display_name": "Python 3",
   "language": "python",
   "name": "python3"
  },
  "language_info": {
   "codemirror_mode": {
    "name": "ipython",
    "version": 3
   },
   "file_extension": ".py",
   "mimetype": "text/x-python",
   "name": "python",
   "nbconvert_exporter": "python",
   "pygments_lexer": "ipython3",
   "version": "3.7.0"
  }
 },
 "nbformat": 4,
 "nbformat_minor": 2
}
