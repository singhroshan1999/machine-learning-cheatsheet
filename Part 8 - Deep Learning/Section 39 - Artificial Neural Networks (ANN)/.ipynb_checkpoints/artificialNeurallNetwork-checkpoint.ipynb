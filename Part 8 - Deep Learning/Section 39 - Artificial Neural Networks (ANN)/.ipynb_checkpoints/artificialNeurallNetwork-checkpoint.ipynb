{
 "cells": [
  {
   "cell_type": "markdown",
   "metadata": {},
   "source": [
    "<div style=\"font-size:38px;color:green\"><u>Artificial Neural Network</u></div><br/><br/>"
   ]
  },
  {
   "cell_type": "code",
   "execution_count": 2,
   "metadata": {},
   "outputs": [],
   "source": [
    "import numpy as np\n",
    "import matplotlib.pyplot as plt\n",
    "import pandas as pd\n",
    "\n",
    "# Importing the dataset\n",
    "dataset = pd.read_csv('Churn_Modelling.csv')\n",
    "x = dataset.iloc[:, 3:13].values\n",
    "y = dataset.iloc[:, 13].values\n",
    "\n",
    "# Encoding categorical data\n",
    "from sklearn.preprocessing import LabelEncoder, OneHotEncoder\n",
    "labelencoder_x_1 = LabelEncoder()\n",
    "x[:, 1] = labelencoder_x_1.fit_transform(x[:, 1])\n",
    "labelencoder_x_2 = LabelEncoder()\n",
    "x[:, 2] = labelencoder_x_2.fit_transform(x[:, 2])\n",
    "onehotencoder = OneHotEncoder(categorical_features = [1])\n",
    "x = onehotencoder.fit_transform(x).toarray()\n",
    "x = x[:, 1:]\n",
    "\n",
    "# Splitting the dataset into the Training set and Test set\n",
    "from sklearn.model_selection import train_test_split\n",
    "x_train, x_test, y_train, y_test = train_test_split(x, y, test_size = 0.2, random_state = 0)\n",
    "from sklearn.preprocessing import StandardScaler\n",
    "sc = StandardScaler()\n",
    "x_train = sc.fit_transform(x_train)\n",
    "x_test = sc.transform(x_test)"
   ]
  },
  {
   "cell_type": "code",
   "execution_count": 3,
   "metadata": {
    "scrolled": true
   },
   "outputs": [
    {
     "name": "stderr",
     "output_type": "stream",
     "text": [
      "Using TensorFlow backend.\n"
     ]
    },
    {
     "name": "stdout",
     "output_type": "stream",
     "text": [
      "WARNING:tensorflow:From e:\\ProgramData\\Anaconda3\\lib\\site-packages\\tensorflow\\python\\framework\\op_def_library.py:263: colocate_with (from tensorflow.python.framework.ops) is deprecated and will be removed in a future version.\n",
      "Instructions for updating:\n",
      "Colocations handled automatically by placer.\n"
     ]
    },
    {
     "name": "stderr",
     "output_type": "stream",
     "text": [
      "e:\\ProgramData\\Anaconda3\\lib\\site-packages\\ipykernel_launcher.py:10: UserWarning: Update your `Dense` call to the Keras 2 API: `Dense(activation=\"relu\", input_dim=11, units=6, kernel_initializer=\"uniform\")`\n",
      "  # Remove the CWD from sys.path while we load stuff.\n",
      "e:\\ProgramData\\Anaconda3\\lib\\site-packages\\ipykernel_launcher.py:11: UserWarning: Update your `Dense` call to the Keras 2 API: `Dense(activation=\"relu\", units=6, kernel_initializer=\"uniform\")`\n",
      "  # This is added back by InteractiveShellApp.init_path()\n",
      "e:\\ProgramData\\Anaconda3\\lib\\site-packages\\ipykernel_launcher.py:12: UserWarning: Update your `Dense` call to the Keras 2 API: `Dense(activation=\"sigmoid\", units=1, kernel_initializer=\"uniform\")`\n",
      "  if sys.path[0] == '':\n"
     ]
    }
   ],
   "source": [
    "# creating ANN\n",
    "\n",
    "import keras\n",
    "from keras.models import Sequential\n",
    "from keras.layers import Dense\n",
    "\n",
    "# initializing ANN\n",
    "classifier = Sequential()\n",
    "# adding input and hidden layers\n",
    "classifier.add(Dense(output_dim = 6, init = 'uniform', activation = 'relu', input_dim = 11))  # first hidded layer\n",
    "classifier.add(Dense(output_dim = 6, init = 'uniform', activation = 'relu'))  # second hidded layer\n",
    "classifier.add(Dense(output_dim = 1, init = 'uniform', activation = 'sigmoid'))  # output layer\n",
    "# compiling ANN\n",
    "classifier.compile(optimizer = 'adam', loss = 'binary_crossentropy', metrics = ['accuracy'])"
   ]
  },
  {
   "cell_type": "code",
   "execution_count": 4,
   "metadata": {},
   "outputs": [
    {
     "name": "stdout",
     "output_type": "stream",
     "text": [
      "WARNING:tensorflow:From e:\\ProgramData\\Anaconda3\\lib\\site-packages\\tensorflow\\python\\ops\\math_ops.py:3066: to_int32 (from tensorflow.python.ops.math_ops) is deprecated and will be removed in a future version.\n",
      "Instructions for updating:\n",
      "Use tf.cast instead.\n",
      "Epoch 1/100\n",
      "8000/8000 [==============================] - 3s 343us/step - loss: 0.4952 - acc: 0.7954\n",
      "Epoch 2/100\n",
      "8000/8000 [==============================] - 2s 200us/step - loss: 0.4219 - acc: 0.8162\n",
      "Epoch 3/100\n",
      "8000/8000 [==============================] - 2s 200us/step - loss: 0.4152 - acc: 0.8265\n",
      "Epoch 4/100\n",
      "8000/8000 [==============================] - 2s 200us/step - loss: 0.4095 - acc: 0.8302\n",
      "Epoch 5/100\n",
      "8000/8000 [==============================] - 2s 213us/step - loss: 0.4063 - acc: 0.8306\n",
      "Epoch 6/100\n",
      "8000/8000 [==============================] - 2s 203us/step - loss: 0.4047 - acc: 0.8321\n",
      "Epoch 7/100\n",
      "8000/8000 [==============================] - 2s 204us/step - loss: 0.4034 - acc: 0.8355\n",
      "Epoch 8/100\n",
      "8000/8000 [==============================] - 2s 204us/step - loss: 0.4023 - acc: 0.8360\n",
      "Epoch 9/100\n",
      "8000/8000 [==============================] - 2s 198us/step - loss: 0.4017 - acc: 0.8344\n",
      "Epoch 10/100\n",
      "8000/8000 [==============================] - 2s 209us/step - loss: 0.4005 - acc: 0.8352\n",
      "Epoch 11/100\n",
      "8000/8000 [==============================] - 2s 220us/step - loss: 0.3981 - acc: 0.8370\n",
      "Epoch 12/100\n",
      "8000/8000 [==============================] - 2s 214us/step - loss: 0.3932 - acc: 0.8377\n",
      "Epoch 13/100\n",
      "8000/8000 [==============================] - 2s 217us/step - loss: 0.3869 - acc: 0.8380\n",
      "Epoch 14/100\n",
      "8000/8000 [==============================] - 2s 226us/step - loss: 0.3811 - acc: 0.8409\n",
      "Epoch 15/100\n",
      "8000/8000 [==============================] - 2s 218us/step - loss: 0.3749 - acc: 0.8447\n",
      "Epoch 16/100\n",
      "8000/8000 [==============================] - 2s 220us/step - loss: 0.3710 - acc: 0.8471\n",
      "Epoch 17/100\n",
      "8000/8000 [==============================] - 2s 216us/step - loss: 0.3681 - acc: 0.8501\n",
      "Epoch 18/100\n",
      "8000/8000 [==============================] - 2s 216us/step - loss: 0.3655 - acc: 0.8509\n",
      "Epoch 19/100\n",
      "8000/8000 [==============================] - 2s 216us/step - loss: 0.3632 - acc: 0.8506\n",
      "Epoch 20/100\n",
      "8000/8000 [==============================] - 2s 219us/step - loss: 0.3614 - acc: 0.8517\n",
      "Epoch 21/100\n",
      "8000/8000 [==============================] - 2s 214us/step - loss: 0.3596 - acc: 0.8526\n",
      "Epoch 22/100\n",
      "8000/8000 [==============================] - 2s 217us/step - loss: 0.3576 - acc: 0.8530\n",
      "Epoch 23/100\n",
      "8000/8000 [==============================] - 2s 229us/step - loss: 0.3565 - acc: 0.8539\n",
      "Epoch 24/100\n",
      "8000/8000 [==============================] - 2s 222us/step - loss: 0.3558 - acc: 0.8547\n",
      "Epoch 25/100\n",
      "8000/8000 [==============================] - 2s 221us/step - loss: 0.3526 - acc: 0.8534\n",
      "Epoch 26/100\n",
      "8000/8000 [==============================] - 2s 219us/step - loss: 0.3520 - acc: 0.8570\n",
      "Epoch 27/100\n",
      "8000/8000 [==============================] - 2s 220us/step - loss: 0.3508 - acc: 0.8575\n",
      "Epoch 28/100\n",
      "8000/8000 [==============================] - 2s 219us/step - loss: 0.3499 - acc: 0.8544\n",
      "Epoch 29/100\n",
      "8000/8000 [==============================] - 2s 218us/step - loss: 0.3488 - acc: 0.8585\n",
      "Epoch 30/100\n",
      "8000/8000 [==============================] - 2s 219us/step - loss: 0.3473 - acc: 0.8575\n",
      "Epoch 31/100\n",
      "8000/8000 [==============================] - 2s 219us/step - loss: 0.3468 - acc: 0.8574\n",
      "Epoch 32/100\n",
      "8000/8000 [==============================] - 2s 213us/step - loss: 0.3464 - acc: 0.8565\n",
      "Epoch 33/100\n",
      "8000/8000 [==============================] - 2s 221us/step - loss: 0.3453 - acc: 0.8577\n",
      "Epoch 34/100\n",
      "8000/8000 [==============================] - 2s 211us/step - loss: 0.3451 - acc: 0.8592\n",
      "Epoch 35/100\n",
      "8000/8000 [==============================] - 2s 227us/step - loss: 0.3449 - acc: 0.8560\n",
      "Epoch 36/100\n",
      "8000/8000 [==============================] - 2s 218us/step - loss: 0.3452 - acc: 0.8586 0s - loss: 0.3445 -\n",
      "Epoch 37/100\n",
      "8000/8000 [==============================] - 2s 217us/step - loss: 0.3435 - acc: 0.8576\n",
      "Epoch 38/100\n",
      "8000/8000 [==============================] - 2s 213us/step - loss: 0.3437 - acc: 0.8585\n",
      "Epoch 39/100\n",
      "8000/8000 [==============================] - 2s 212us/step - loss: 0.3438 - acc: 0.8590\n",
      "Epoch 40/100\n",
      "8000/8000 [==============================] - 2s 213us/step - loss: 0.3434 - acc: 0.8615\n",
      "Epoch 41/100\n",
      "8000/8000 [==============================] - 2s 223us/step - loss: 0.3435 - acc: 0.8589\n",
      "Epoch 42/100\n",
      "8000/8000 [==============================] - 2s 214us/step - loss: 0.3425 - acc: 0.8600\n",
      "Epoch 43/100\n",
      "8000/8000 [==============================] - 2s 214us/step - loss: 0.3424 - acc: 0.8589\n",
      "Epoch 44/100\n",
      "8000/8000 [==============================] - 2s 220us/step - loss: 0.3426 - acc: 0.8585\n",
      "Epoch 45/100\n",
      "8000/8000 [==============================] - 2s 218us/step - loss: 0.3426 - acc: 0.8584\n",
      "Epoch 46/100\n",
      "8000/8000 [==============================] - 2s 229us/step - loss: 0.3422 - acc: 0.8581\n",
      "Epoch 47/100\n",
      "8000/8000 [==============================] - 2s 211us/step - loss: 0.3420 - acc: 0.8599\n",
      "Epoch 48/100\n",
      "8000/8000 [==============================] - 2s 211us/step - loss: 0.3419 - acc: 0.8604\n",
      "Epoch 49/100\n",
      "8000/8000 [==============================] - 2s 207us/step - loss: 0.3417 - acc: 0.8599\n",
      "Epoch 50/100\n",
      "8000/8000 [==============================] - 2s 210us/step - loss: 0.3412 - acc: 0.8584\n",
      "Epoch 51/100\n",
      "8000/8000 [==============================] - 2s 219us/step - loss: 0.3418 - acc: 0.8580\n",
      "Epoch 52/100\n",
      "8000/8000 [==============================] - 2s 214us/step - loss: 0.3416 - acc: 0.8589\n",
      "Epoch 53/100\n",
      "8000/8000 [==============================] - 2s 218us/step - loss: 0.3408 - acc: 0.8616\n",
      "Epoch 54/100\n",
      "8000/8000 [==============================] - 2s 216us/step - loss: 0.3409 - acc: 0.8597\n",
      "Epoch 55/100\n",
      "8000/8000 [==============================] - 2s 224us/step - loss: 0.3404 - acc: 0.8619\n",
      "Epoch 56/100\n",
      "8000/8000 [==============================] - 2s 243us/step - loss: 0.3406 - acc: 0.8605\n",
      "Epoch 57/100\n",
      "8000/8000 [==============================] - 2s 239us/step - loss: 0.3407 - acc: 0.8594\n",
      "Epoch 58/100\n",
      "8000/8000 [==============================] - 2s 240us/step - loss: 0.3401 - acc: 0.8621\n",
      "Epoch 59/100\n",
      "8000/8000 [==============================] - 2s 249us/step - loss: 0.3402 - acc: 0.8609\n",
      "Epoch 60/100\n",
      "8000/8000 [==============================] - 2s 238us/step - loss: 0.3405 - acc: 0.8592\n",
      "Epoch 61/100\n",
      "8000/8000 [==============================] - 2s 247us/step - loss: 0.3399 - acc: 0.8601\n",
      "Epoch 62/100\n",
      "8000/8000 [==============================] - 2s 256us/step - loss: 0.3395 - acc: 0.8602\n",
      "Epoch 63/100\n",
      "8000/8000 [==============================] - 2s 245us/step - loss: 0.3399 - acc: 0.8599\n",
      "Epoch 64/100\n",
      "8000/8000 [==============================] - 2s 255us/step - loss: 0.3394 - acc: 0.8620\n",
      "Epoch 65/100\n",
      "8000/8000 [==============================] - 2s 278us/step - loss: 0.3390 - acc: 0.8617\n",
      "Epoch 66/100\n",
      "8000/8000 [==============================] - 2s 288us/step - loss: 0.3395 - acc: 0.8629\n",
      "Epoch 67/100\n",
      "8000/8000 [==============================] - 2s 293us/step - loss: 0.3390 - acc: 0.8602\n",
      "Epoch 68/100\n",
      "8000/8000 [==============================] - 2s 298us/step - loss: 0.3383 - acc: 0.8596\n",
      "Epoch 69/100\n",
      "8000/8000 [==============================] - 2s 296us/step - loss: 0.3394 - acc: 0.8586\n",
      "Epoch 70/100\n",
      "8000/8000 [==============================] - 2s 236us/step - loss: 0.3391 - acc: 0.8629\n",
      "Epoch 71/100\n",
      "8000/8000 [==============================] - 2s 216us/step - loss: 0.3385 - acc: 0.8607\n",
      "Epoch 72/100\n",
      "8000/8000 [==============================] - 2s 210us/step - loss: 0.3394 - acc: 0.8597\n",
      "Epoch 73/100\n",
      "8000/8000 [==============================] - 2s 219us/step - loss: 0.3384 - acc: 0.8616\n",
      "Epoch 74/100\n",
      "8000/8000 [==============================] - 2s 216us/step - loss: 0.3386 - acc: 0.8621\n",
      "Epoch 75/100\n",
      "8000/8000 [==============================] - 2s 213us/step - loss: 0.3391 - acc: 0.8604\n",
      "Epoch 76/100\n",
      "8000/8000 [==============================] - 2s 241us/step - loss: 0.3379 - acc: 0.8624\n",
      "Epoch 77/100\n",
      "8000/8000 [==============================] - 2s 204us/step - loss: 0.3384 - acc: 0.8616\n",
      "Epoch 78/100\n",
      "8000/8000 [==============================] - 2s 192us/step - loss: 0.3386 - acc: 0.8599\n",
      "Epoch 79/100\n"
     ]
    },
    {
     "name": "stdout",
     "output_type": "stream",
     "text": [
      "8000/8000 [==============================] - 2s 195us/step - loss: 0.3372 - acc: 0.8619\n",
      "Epoch 80/100\n",
      "8000/8000 [==============================] - 2s 193us/step - loss: 0.3384 - acc: 0.8595\n",
      "Epoch 81/100\n",
      "8000/8000 [==============================] - 2s 200us/step - loss: 0.3378 - acc: 0.8594\n",
      "Epoch 82/100\n",
      "8000/8000 [==============================] - 2s 206us/step - loss: 0.3372 - acc: 0.8630\n",
      "Epoch 83/100\n",
      "8000/8000 [==============================] - 2s 226us/step - loss: 0.3377 - acc: 0.8617 0s - loss: 0.3379\n",
      "Epoch 84/100\n",
      "8000/8000 [==============================] - 2s 195us/step - loss: 0.3383 - acc: 0.8617\n",
      "Epoch 85/100\n",
      "8000/8000 [==============================] - 2s 212us/step - loss: 0.3383 - acc: 0.8640\n",
      "Epoch 86/100\n",
      "8000/8000 [==============================] - 2s 283us/step - loss: 0.3372 - acc: 0.8605\n",
      "Epoch 87/100\n",
      "8000/8000 [==============================] - 3s 336us/step - loss: 0.3374 - acc: 0.8600\n",
      "Epoch 88/100\n",
      "8000/8000 [==============================] - 2s 257us/step - loss: 0.3379 - acc: 0.8587\n",
      "Epoch 89/100\n",
      "8000/8000 [==============================] - 2s 219us/step - loss: 0.3370 - acc: 0.8616\n",
      "Epoch 90/100\n",
      "8000/8000 [==============================] - 2s 228us/step - loss: 0.3373 - acc: 0.8607\n",
      "Epoch 91/100\n",
      "8000/8000 [==============================] - 2s 220us/step - loss: 0.3372 - acc: 0.8606\n",
      "Epoch 92/100\n",
      "8000/8000 [==============================] - 2s 216us/step - loss: 0.3380 - acc: 0.8614\n",
      "Epoch 93/100\n",
      "8000/8000 [==============================] - 2s 232us/step - loss: 0.3374 - acc: 0.8609\n",
      "Epoch 94/100\n",
      "8000/8000 [==============================] - 2s 219us/step - loss: 0.3364 - acc: 0.8630\n",
      "Epoch 95/100\n",
      "8000/8000 [==============================] - 2s 221us/step - loss: 0.3373 - acc: 0.8624\n",
      "Epoch 96/100\n",
      "8000/8000 [==============================] - 2s 227us/step - loss: 0.3372 - acc: 0.8616\n",
      "Epoch 97/100\n",
      "8000/8000 [==============================] - 2s 217us/step - loss: 0.3366 - acc: 0.8602\n",
      "Epoch 98/100\n",
      "8000/8000 [==============================] - 2s 226us/step - loss: 0.3364 - acc: 0.8624\n",
      "Epoch 99/100\n",
      "8000/8000 [==============================] - 2s 224us/step - loss: 0.3377 - acc: 0.8606\n",
      "Epoch 100/100\n",
      "8000/8000 [==============================] - 2s 199us/step - loss: 0.3365 - acc: 0.8605\n"
     ]
    },
    {
     "data": {
      "text/plain": [
       "<keras.callbacks.History at 0x179e65214e0>"
      ]
     },
     "execution_count": 4,
     "metadata": {},
     "output_type": "execute_result"
    }
   ],
   "source": [
    "# fitting ANN to training set\n",
    "classifier.fit(x_train, y_train, batch_size = 10, epochs = 100)"
   ]
  },
  {
   "cell_type": "code",
   "execution_count": 14,
   "metadata": {},
   "outputs": [
    {
     "data": {
      "text/plain": [
       "array([[1480,  115],\n",
       "       [ 173,  232]], dtype=int64)"
      ]
     },
     "execution_count": 14,
     "metadata": {},
     "output_type": "execute_result"
    }
   ],
   "source": [
    "# predicting values\n",
    "y_pred = classifier.predict(x_test)\n",
    "y_pred = (y_pred > 0.5)\n",
    "\n",
    "from sklearn.metrics import confusion_matrix\n",
    "cm = confusion_matrix(y_test, y_pred)\n",
    "cm"
   ]
  },
  {
   "cell_type": "code",
   "execution_count": 16,
   "metadata": {},
   "outputs": [
    {
     "data": {
      "text/plain": [
       "0.856"
      ]
     },
     "execution_count": 16,
     "metadata": {},
     "output_type": "execute_result"
    }
   ],
   "source": [
    "(1480+232)/2000"
   ]
  }
 ],
 "metadata": {
  "kernelspec": {
   "display_name": "Python 3",
   "language": "python",
   "name": "python3"
  },
  "language_info": {
   "codemirror_mode": {
    "name": "ipython",
    "version": 3
   },
   "file_extension": ".py",
   "mimetype": "text/x-python",
   "name": "python",
   "nbconvert_exporter": "python",
   "pygments_lexer": "ipython3",
   "version": "3.7.0"
  }
 },
 "nbformat": 4,
 "nbformat_minor": 2
}
